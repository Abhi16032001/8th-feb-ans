{
 "cells": [
  {
   "cell_type": "markdown",
   "id": "922ec689-983d-4134-a83c-513c252379e1",
   "metadata": {},
   "source": [
    "Q1. What is Abstraction in OOps? Explain with an example.\n",
    "The process by which data and functions are defined in such a way that only essential details can be seen and unnecessary implementations are hidden is called Abstraction."
   ]
  },
  {
   "cell_type": "code",
   "execution_count": 4,
   "id": "bae45ff8-bfed-4603-a76a-9d3fe4ac91e9",
   "metadata": {},
   "outputs": [
    {
     "name": "stdout",
     "output_type": "stream",
     "text": [
      "Circle area: 314.0\n",
      "Rectangle area: 600\n"
     ]
    }
   ],
   "source": [
    "from abc import ABC, abstractmethod\n",
    "\n",
    "class Shape(ABC):\n",
    "    @abstractmethod\n",
    "    def area(self):\n",
    "        pass\n",
    "\n",
    "class Circle(Shape):\n",
    "    def __init__(self, radius):\n",
    "        self.radius = radius\n",
    "\n",
    "    def area(self):\n",
    "        return 3.14 * (self.radius ** 2)\n",
    "\n",
    "class Rectangle(Shape):\n",
    "    def __init__(self, length, width):\n",
    "        self.length = length\n",
    "        self.width = width\n",
    "\n",
    "    def area(self):\n",
    "        return self.length * self.width\n",
    "\n",
    "circle = Circle(10)\n",
    "rectangle = Rectangle(20, 30)\n",
    "\n",
    "print(\"Circle area:\", circle.area())\n",
    "print(\"Rectangle area:\", rectangle.area())"
   ]
  },
  {
   "cell_type": "markdown",
   "id": "ee881d2a-e102-406e-b657-9029b39849e9",
   "metadata": {},
   "source": [
    "Q2. Differentiate between Abstraction and Encapsulation. Explain with an example.\n",
    "\n",
    "Encapsulation is defined as the wrapping up of data under a single unit. It is the mechanism that binds together code and the data it manipulates. Another way to think about encapsulation is, that it is a protective shield that prevents the data from being accessed by the code outside this shield.\n",
    "\n",
    "Data Abstraction is the property by virtue of which only the essential details are displayed to the user. The trivial or the non-essential units are not displayed to the user. Ex: A car is viewed as a car rather than its individual components."
   ]
  },
  {
   "cell_type": "markdown",
   "id": "37e5a0e3-74c8-43b9-88de-af1368876e99",
   "metadata": {},
   "source": [
    "Q3. What is abc module in python? Why is it used?\n",
    "\n",
    "The abc (Abstract Base Class) module in Python provides a way to define abstract base classes (ABCs). An abstract base class is a class that cannot be instantiated on its own, but is meant to be subclassed. Abstract base classes define a common interface that must be implemented by all of its concrete subclasses.\n",
    "\n",
    "The purpose of the abc module is to provide a way to define abstract classes in Python. It provides a way to define a common interface for a set of related classes, making it easier to maintain and change the implementation of those classes over time.\n"
   ]
  },
  {
   "cell_type": "code",
   "execution_count": 5,
   "id": "92294815-78ef-4b9b-86b3-c28c6e69a8f4",
   "metadata": {},
   "outputs": [
    {
     "name": "stdout",
     "output_type": "stream",
     "text": [
      "Circle area: 314.0\n",
      "Rectangle area: 600\n"
     ]
    }
   ],
   "source": [
    "from abc import ABC, abstractmethod\n",
    "\n",
    "class Shape(ABC):\n",
    "    @abstractmethod\n",
    "    def area(self):\n",
    "        pass\n",
    "\n",
    "class Circle(Shape):\n",
    "    def __init__(self, radius):\n",
    "        self.radius = radius\n",
    "\n",
    "    def area(self):\n",
    "        return 3.14 * (self.radius ** 2)\n",
    "\n",
    "class Rectangle(Shape):\n",
    "    def __init__(self, length, width):\n",
    "        self.length = length\n",
    "        self.width = width\n",
    "\n",
    "    def area(self):\n",
    "        return self.length * self.width\n",
    "\n",
    "circle = Circle(10)\n",
    "rectangle = Rectangle(20, 30)\n",
    "\n",
    "print(\"Circle area:\", circle.area())\n",
    "print(\"Rectangle area:\", rectangle.area())"
   ]
  },
  {
   "cell_type": "markdown",
   "id": "1bf845d7-a32d-4c92-98a0-68287b2f235e",
   "metadata": {},
   "source": [
    "Q4. How can we achieve data abstraction?\n",
    "\n",
    "There are two main ways to achieve abstraction in Python:\n",
    "\n",
    "Abstract Base Classes (ABCs): This is a mechanism provided by the abc module in Python, which allows you to define an abstract base class that cannot be instantiated. Subclasses of the abstract base class must provide implementations for the abstract methods defined in the base class. This helps to enforce an interface and to ensure that the subclasses are properly implemented.\n",
    "\n",
    "Encapsulation: This is a technique of wrapping data and functions that operate on the data within a single unit or object. Encapsulation provides a way to hide the internal details of an object and to expose only the methods and properties that are necessary for the user to interact with the object.\n",
    "\n",
    "Both abstract base classes and encapsulation can be used together to achieve abstraction in Python. For example, you can define an abstract base class to define an interface, and then you can use encapsulation to hide the implementation details of the concrete subclasses that implement the interface."
   ]
  },
  {
   "cell_type": "markdown",
   "id": "b2a4b3f2-7f32-4a54-9484-5f286d3493d0",
   "metadata": {},
   "source": [
    "Q5. Can we create an instance of an abstract class? Explain your answer.\n",
    "\n",
    "No, you cannot create an instance of an abstract class in Python. An abstract class is intended to be a base class that cannot be instantiated on its own. Instead, you should define concrete subclasses that inherit from the abstract class and provide implementations for the abstract methods defined in the abstract class.\n",
    "\n",
    "In Python, you can define an abstract class using the abc module and marking the abstract methods with the @abstractmethod decorator. When you attempt to create an instance of an abstract class, you will receive a TypeError indicating that the abstract class cannot be instantiated directly.\n"
   ]
  },
  {
   "cell_type": "code",
   "execution_count": 7,
   "id": "9b7eb9f6-659d-4009-bf86-e8c253794023",
   "metadata": {},
   "outputs": [
    {
     "ename": "TypeError",
     "evalue": "Can't instantiate abstract class Shape with abstract method area",
     "output_type": "error",
     "traceback": [
      "\u001b[0;31m---------------------------------------------------------------------------\u001b[0m",
      "\u001b[0;31mTypeError\u001b[0m                                 Traceback (most recent call last)",
      "Cell \u001b[0;32mIn[7], line 10\u001b[0m\n\u001b[1;32m      7\u001b[0m         \u001b[38;5;28;01mpass\u001b[39;00m\n\u001b[1;32m      8\u001b[0m \u001b[38;5;66;03m# Attempting to create an instance of the abstract class\u001b[39;00m\n\u001b[1;32m      9\u001b[0m \u001b[38;5;66;03m# will result in a TypeError\u001b[39;00m\n\u001b[0;32m---> 10\u001b[0m shape \u001b[38;5;241m=\u001b[39m \u001b[43mShape\u001b[49m\u001b[43m(\u001b[49m\u001b[43m)\u001b[49m  \u001b[38;5;66;03m# TypeError: Can't instantiate abstract class Shape with abstract methods area\u001b[39;00m\n",
      "\u001b[0;31mTypeError\u001b[0m: Can't instantiate abstract class Shape with abstract method area"
     ]
    }
   ],
   "source": [
    "# Here's an example:\n",
    "from abc import ABC, abstractmethod\n",
    "\n",
    "class Shape(ABC):\n",
    "    @abstractmethod\n",
    "    def area(self):\n",
    "        pass\n",
    "# Attempting to create an instance of the abstract class\n",
    "# will result in a TypeError\n",
    "shape = Shape()  # TypeError: Can't instantiate abstract class Shape with abstract methods area"
   ]
  },
  {
   "cell_type": "markdown",
   "id": "8f3158a0-74f6-4af4-a604-1bad9d4491e4",
   "metadata": {},
   "source": [
    "Q-5 Can we create an instance of an abstract class? Explain your answer."
   ]
  },
  {
   "cell_type": "markdown",
   "id": "83dbefc4-0400-49aa-ae22-9d3aa098c8ba",
   "metadata": {},
   "source": [
    "No, we cannot create an instance of an abstract class directly. An abstract class is a class that is designed to be inherited by other classes, and it cannot be instantiated on its own. It contains one or more abstract methods, which do not have an implementation in the abstract class and must be implemented by any concrete subclass.\n",
    "\n",
    "The purpose of an abstract class is to provide a common interface for a group of related classes. By defining the interface in the abstract class, we can ensure that all subclasses will have the same methods and behaviors, making it easier to work with them as a group.\n",
    "\n",
    "To use an abstract class, we must create a concrete subclass that implements all of the abstract methods defined in the abstract class. The concrete subclass can then be instantiated and used like any other class."
   ]
  }
 ],
 "metadata": {
  "kernelspec": {
   "display_name": "Python 3 (ipykernel)",
   "language": "python",
   "name": "python3"
  },
  "language_info": {
   "codemirror_mode": {
    "name": "ipython",
    "version": 3
   },
   "file_extension": ".py",
   "mimetype": "text/x-python",
   "name": "python",
   "nbconvert_exporter": "python",
   "pygments_lexer": "ipython3",
   "version": "3.10.8"
  }
 },
 "nbformat": 4,
 "nbformat_minor": 5
}
